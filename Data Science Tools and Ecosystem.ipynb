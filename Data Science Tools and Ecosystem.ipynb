{
 "cells": [
  {
   "cell_type": "markdown",
   "id": "82ff7178-a5af-4e8f-887c-b22a7ce176a9",
   "metadata": {},
   "source": [
    "\n",
    "<h3>This a simple arithmetic expression to mutiply then add integers</h3>\n",
    "result = (3*4)+5\r\n",
    "print(result) # Output:175t)"
   ]
  },
  {
   "cell_type": "code",
   "execution_count": null,
   "id": "4e060b6a-17f6-44dd-8704-d29c02bc2b60",
   "metadata": {},
   "outputs": [],
   "source": []
  }
 ],
 "metadata": {
  "kernelspec": {
   "display_name": "Python 3 (ipykernel)",
   "language": "python",
   "name": "python3"
  },
  "language_info": {
   "codemirror_mode": {
    "name": "ipython",
    "version": 3
   },
   "file_extension": ".py",
   "mimetype": "text/x-python",
   "name": "python",
   "nbconvert_exporter": "python",
   "pygments_lexer": "ipython3",
   "version": "3.12.1"
  }
 },
 "nbformat": 4,
 "nbformat_minor": 5
}
